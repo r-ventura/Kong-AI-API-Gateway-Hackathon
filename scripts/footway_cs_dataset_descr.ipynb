{
 "cells": [
  {
   "cell_type": "code",
   "execution_count": 4,
   "metadata": {},
   "outputs": [
    {
     "name": "stdout",
     "output_type": "stream",
     "text": [
      "Unique categories found:\n",
      "- 3F2\n",
      "- CANCEL\n",
      "- CANCEL_REQUEST\n",
      "- COMPLAINT\n",
      "- DISCOUNT_CODE\n",
      "- EXCHANGE\n",
      "- FW_SHIPPING_PROCESS\n",
      "- HOW_TO_RETURN\n",
      "- MISSING\n",
      "- NO_PROOF\n",
      "- OTHER\n",
      "- PRICE\n",
      "- PRICE_MATCH\n",
      "- PRODUCT\n",
      "- PROFORMA_INVOICE\n",
      "- PROOF_COMPLAINT\n",
      "- RECEIPT\n",
      "- RETURN\n",
      "- SHIPPING\n",
      "- STATUS_RETURN\n",
      "- STATUS_SHIPPING\n",
      "- UNCLEAR_C_REQUEST\n",
      "- UNSUBSCRIBE\n",
      "- WRONG_ADDRESS\n",
      "- WRONG_PRODUCT\n"
     ]
    }
   ],
   "source": [
    "import json\n",
    "\n",
    "def get_unique_categories(file_path):\n",
    "    # Read the JSON file\n",
    "    with open(file_path, 'r') as file:\n",
    "        data = json.load(file)\n",
    "    \n",
    "    # Initialize a set to store unique categories\n",
    "    unique_categories = set()\n",
    "    \n",
    "    # Handle different JSON structures\n",
    "    if isinstance(data, list):\n",
    "        # If the JSON is an array of objects\n",
    "        for item in data:\n",
    "            if isinstance(item, dict) and 'category' in item:\n",
    "                unique_categories.add(item['category'])\n",
    "    elif isinstance(data, dict):\n",
    "        # If the JSON is a single object\n",
    "        if 'category' in data:\n",
    "            unique_categories.add(data['category'])\n",
    "        # If categories are nested in some other structure\n",
    "        # You might need additional logic here based on your JSON structure\n",
    "    \n",
    "    return sorted(unique_categories)  # Return sorted list for consistent ordering\n",
    "\n",
    "# Usage example\n",
    "file_path = '../data/footway_cs_dataset.json'\n",
    "unique_categories = get_unique_categories(file_path)\n",
    "\n",
    "with open(file_path, 'r') as file:\n",
    "    data = json.load(file)\n",
    "\n",
    "print(\"Unique categories found:\")\n",
    "for category in unique_categories:\n",
    "    print(f\"- {category}\")"
   ]
  },
  {
   "cell_type": "code",
   "execution_count": 6,
   "metadata": {},
   "outputs": [
    {
     "name": "stdout",
     "output_type": "stream",
     "text": [
      "952\n"
     ]
    }
   ],
   "source": [
    "print(len(data))"
   ]
  },
  {
   "cell_type": "code",
   "execution_count": null,
   "metadata": {},
   "outputs": [],
   "source": []
  }
 ],
 "metadata": {
  "kernelspec": {
   "display_name": "Python 3",
   "language": "python",
   "name": "python3"
  },
  "language_info": {
   "codemirror_mode": {
    "name": "ipython",
    "version": 3
   },
   "file_extension": ".py",
   "mimetype": "text/x-python",
   "name": "python",
   "nbconvert_exporter": "python",
   "pygments_lexer": "ipython3",
   "version": "3.8.10"
  }
 },
 "nbformat": 4,
 "nbformat_minor": 2
}
